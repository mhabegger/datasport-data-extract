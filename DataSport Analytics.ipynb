{
 "cells": [
  {
   "cell_type": "markdown",
   "metadata": {},
   "source": [
    "## Datasport Public Page Analytics\n",
    "\n",
    "This notebook, queries the datasport public pages and retrieves the ranking and athletes to do some basic analytics, like number of ahtletes, and the average birthyear etc.\n",
    "\n",
    "To run the notebook on macOS, from a terminal, install the `notebook` component und run `jupyter`:\n",
    "\n",
    "    pip install notebook\n",
    "    jupyter notebook\n",
    "    \n",
    "Once opened, start executing the blocks from top down, to get some data"
   ]
  },
  {
   "cell_type": "markdown",
   "metadata": {},
   "source": [
    "### Requirements\n",
    "\n",
    "The following block installs the requirements and imports the necessary libraries"
   ]
  },
  {
   "cell_type": "code",
   "execution_count": null,
   "metadata": {
    "collapsed": false
   },
   "outputs": [],
   "source": [
    "# Install requests\n",
    "!pip2 install requests"
   ]
  },
  {
   "cell_type": "code",
   "execution_count": null,
   "metadata": {
    "collapsed": true
   },
   "outputs": [],
   "source": [
    "# Import requirements\n",
    "import requests\n",
    "import string\n",
    "import os\n",
    "import re"
   ]
  },
  {
   "cell_type": "markdown",
   "metadata": {
    "collapsed": false
   },
   "source": [
    "### Datasport public page query\n",
    "\n",
    "We query the public ranking pages of datasport base on a year, an run name and a letter.\n",
    "Thus we use a url like the following\n",
    "\n",
    "```python\n",
    "run = 'escalade'\n",
    "year = 2016\n",
    "letter = a\n",
    "url = 'https://services.datasport.com/{}/lauf/{}/alfa{}.htm'.format(year, run, letter)\n",
    "\n",
    "# > https://services.datasport.com/2016/lauf/escalade/alfaa.htm\n",
    "```\n",
    "\n",
    "The following block are the required methods to run "
   ]
  },
  {
   "cell_type": "code",
   "execution_count": null,
   "metadata": {
    "collapsed": false
   },
   "outputs": [],
   "source": [
    "def parse_athletes_regex(data, year=2016):\n",
    "    \"\"\"Parse an athlete line with regex\"\"\"\n",
    "    athletes = []\n",
    "    if year >= 2000:\n",
    "        ath = {}\n",
    "        regex = ur\"(^|>)(?P<category>[-/\\w]+)\\s+(?P<rank>[\\d-]+)\\.?\\s+(?P<name>.+?)\\s+(?P<year>\\d{4}|\\d{2}|\\?{4})\\s+(?P<city>.+?)\\s\\s.+$\"\n",
    "        matches = re.finditer(regex, data, re.MULTILINE)\n",
    "        matchNum = 0\n",
    "\n",
    "        for matchNum, match in enumerate(matches):\n",
    "            matchNum = matchNum + 1\n",
    "\n",
    "            ath['category'] = match.group('category')\n",
    "            ath['rank'] = match.group('rank')\n",
    "            ath['name'] = match.group('name')\n",
    "            ath['city'] = match.group('city')\n",
    "            try:\n",
    "                ath['year'] = int(match.group('year'))\n",
    "            except:\n",
    "                ath['year'] = 0\n",
    "\n",
    "            ath['country'] = 'CH'\n",
    "            if ath['city'][1:2] == '-':\n",
    "                ath['country'] = ath['city'][0:1]\n",
    "\n",
    "            athletes.append(ath)\n",
    "\n",
    "        # print 'Matched {} athletes in data.'.format(matchNum)\n",
    "            \n",
    "    return athletes\n",
    "\n",
    "def analyse_datasport_url(run, year, filn, url, store_local=False):\n",
    "    \"\"\"Analyse a datasport URL\"\"\"\n",
    "\n",
    "    filename = '{}/{}/{}'.format(run, year, filn)\n",
    "    \n",
    "    if store_local and os.path.exists(filename):\n",
    "        with open(filename, 'r') as fd:\n",
    "            # print 'Reading from local file...',\n",
    "            data = fd.read()\n",
    "    else:\n",
    "        # print 'Querying Datasport website...',\n",
    "        r  = requests.get(url)\n",
    "        data = r.text\n",
    "\n",
    "        if store_local:\n",
    "            if not os.path.exists(os.path.dirname(filename)):\n",
    "                try:\n",
    "                    os.makedirs(os.path.dirname(filename))\n",
    "                except OSError as exc: # Guard against race condition\n",
    "                    if exc.errno != errno.EEXIST:\n",
    "                        raise\n",
    "            with open(filename, 'wb') as fd:\n",
    "                for chunk in r.iter_content(chunk_size=128):\n",
    "                    fd.write(chunk)\n",
    "    \n",
    "    return parse_athletes_regex(data, year)\n",
    "\n",
    "def category_to_group(category):\n",
    "    if category in ['PousF-A9', 'PousF-B6', 'PousF-B7', 'Cad-A-F']:\n",
    "        return 'Ecolières'\n",
    "    if category in ['PousM-B6', 'Cad-A-M']:\n",
    "        return 'Ecoliers'\n",
    "    \n",
    "    if category in ['Mix2-H', 'Mix3-H']:\n",
    "        return 'Hommes'\n",
    "    \n",
    "    if category in ['Mix2-F', 'Mix3-F']:\n",
    "        return 'Femmes'\n",
    "    \n",
    "    if category in ['Walk-Adu']:\n",
    "        return 'Walk'\n",
    "    \n",
    "def print_stats(run, year, parsed):\n",
    "    year_sum = sum(a['year'] for a in parsed)\n",
    "    year_count = len([x for x in parsed if x['year']>0])\n",
    "    if year_count == 0:\n",
    "        average = 0\n",
    "    else:\n",
    "        average = year_sum / year_count\n",
    "    \n",
    "    print 'For {}, year {}: Average {}, Participants {}'.format(run, year, average, len(parsed))\n",
    "\n",
    "def get_datasport(run, from_year, to_year):\n",
    "    \"\"\"Query datasport years\"\"\"\n",
    "    dd = {}\n",
    "    for year in range(from_year,to_year):\n",
    "        print 'Querying letters a-z for {} and year {}'.format(run, year)\n",
    "        dd[year] = []\n",
    "        parsed_data = []\n",
    "        for letter in string.ascii_lowercase:\n",
    "            # print 'Querying letter {} for {}.'.format(letter, year),\n",
    "            filn = 'alfa{}.htm'.format(letter)\n",
    "            url = 'https://services.datasport.com/{}/lauf/{}/alfa{}.htm'.format(year, run, letter)\n",
    "            # Query the data\n",
    "            try:\n",
    "                new_data = analyse_datasport_url(run, year, filn, url, False)\n",
    "                # append to array\n",
    "                parsed_data = parsed_data + new_data\n",
    "            except Exception, e:\n",
    "                print e\n",
    "        dd[year] = parsed_data\n",
    "\n",
    "    return dd\n",
    "\n",
    "def print_datasport(dd, from_year, to_year):\n",
    "    \"\"\"Print datasport years\"\"\"\n",
    "    for year in range(from_year,to_year):\n",
    "        print_stats(run, year, dd[year])"
   ]
  },
  {
   "cell_type": "markdown",
   "metadata": {
    "collapsed": false
   },
   "source": [
    "### Execute queries\n",
    "\n",
    "The following block will execute the queries and run the analytics.  \n",
    "Change run name (see below for other runs), start and end year"
   ]
  },
  {
   "cell_type": "code",
   "execution_count": null,
   "metadata": {
    "collapsed": false
   },
   "outputs": [],
   "source": [
    "run = 'zuerich'\n",
    "from_year = 2000\n",
    "to_year = 2017\n",
    "\n",
    "dd = get_datasport(run, from_year, to_year)\n",
    "print '-------------------------------'\n",
    "print 'RESULTS:'\n",
    "print_datasport(dd, from_year, to_year)"
   ]
  },
  {
   "cell_type": "markdown",
   "metadata": {
    "collapsed": true
   },
   "source": [
    "#### Other runs\n",
    "\n",
    "The folowing other runs were tested as well and should work with the notebook"
   ]
  },
  {
   "cell_type": "code",
   "execution_count": null,
   "metadata": {
    "collapsed": false
   },
   "outputs": [],
   "source": [
    "runs = ['escalade', 'morat', 'lamara', '20km', 'kerzers', \n",
    "        'gurten', 'frauenlauf', 'zinal', 'zuerich', 'greifenseelauf',\n",
    "        'trotteuse', 'winterthur']"
   ]
  }
 ],
 "metadata": {
  "kernelspec": {
   "display_name": "Python 2",
   "language": "python",
   "name": "python2"
  },
  "language_info": {
   "codemirror_mode": {
    "name": "ipython",
    "version": 2
   },
   "file_extension": ".py",
   "mimetype": "text/x-python",
   "name": "python",
   "nbconvert_exporter": "python",
   "pygments_lexer": "ipython2",
   "version": "2.7.10"
  }
 },
 "nbformat": 4,
 "nbformat_minor": 0
}
